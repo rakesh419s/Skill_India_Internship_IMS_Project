{
  "nbformat": 4,
  "nbformat_minor": 0,
  "metadata": {
    "colab": {
      "name": "IMS.ipynb",
      "provenance": []
    },
    "kernelspec": {
      "name": "python3",
      "display_name": "Python 3"
    },
    "language_info": {
      "name": "python"
    }
  },
  "cells": [
    {
      "cell_type": "markdown",
      "metadata": {
        "id": "kyPTyVDKfYJm"
      },
      "source": [
        "# **Reading the Json File**"
      ]
    },
    {
      "cell_type": "code",
      "metadata": {
        "id": "qobzHThpIEr2"
      },
      "source": [
        "import json\n",
        "\n",
        "fd = open(\"record.json\",'r')\n",
        "r = fd.read()\n",
        "fd.close()\n",
        "\n",
        "record = json.loads(r)"
      ],
      "execution_count": 1,
      "outputs": []
    },
    {
      "cell_type": "markdown",
      "metadata": {
        "id": "g7q-HguAfjUm"
      },
      "source": [
        "**Initial Stock **"
      ]
    },
    {
      "cell_type": "code",
      "metadata": {
        "colab": {
          "base_uri": "https://localhost:8080/"
        },
        "id": "PHB1nLgUJoxD",
        "outputId": "abfacbe4-c4cd-4983-807b-f590cca0a967"
      },
      "source": [
        "record"
      ],
      "execution_count": 3,
      "outputs": [
        {
          "output_type": "execute_result",
          "data": {
            "text/plain": [
              "{'1001': {'name': 'Choco Cake', 'pr': 100, 'qn': 24},\n",
              " '1002': {'name': 'Milk Cake', 'pr': 800, 'qn': 1},\n",
              " '1003': {'name': 'Drink', 'pr': 85, 'qn': 48},\n",
              " '1004': {'name': 'Candy', 'pr': 5, 'qn': 1000},\n",
              " '1005': {'name': 'Pen', 'pr': 20, 'qn': 88},\n",
              " '1007': {'name': 'Mic', 'pr': 1500, 'qn': 0},\n",
              " '1008': {'name': 'Coke', 'pr': 70, 'qn': 100},\n",
              " '1009': {'name': 'chocolate ', 'pr': 12, 'qn': 20},\n",
              " '1010': {'name': 'Phone', 'pr': 5000, 'qn': 200}}"
            ]
          },
          "metadata": {},
          "execution_count": 3
        }
      ]
    },
    {
      "cell_type": "markdown",
      "metadata": {
        "id": "krSpgsXTftBn"
      },
      "source": [
        "*Sales Record(Transactions)*"
      ]
    },
    {
      "cell_type": "code",
      "metadata": {
        "colab": {
          "base_uri": "https://localhost:8080/",
          "height": 52
        },
        "id": "HPOWqRDWJsYx",
        "outputId": "891fd265-5b0a-482f-8ad3-315856dc0ad7"
      },
      "source": [
        "sales_Record={'Sample_data':{'name': '***', 'pr': '***', 'qn': '***','Bg_Amt':'***'},\n",
        "              'Sample_data1': {'name': '***', 'pr': '***', 'qn': '***','Bg_Amt':'***'},\n",
        "              'Sample_data2': {'name': '*** ', 'pr': '***', 'qn': '***','Bg_Amt':'***'}}\n",
        "\n",
        "import json\n",
        "\n",
        "sales_js = json.dumps(sales_Record)\n",
        "sales_js"
      ],
      "execution_count": 4,
      "outputs": [
        {
          "output_type": "execute_result",
          "data": {
            "application/vnd.google.colaboratory.intrinsic+json": {
              "type": "string"
            },
            "text/plain": [
              "'{\"Sample_data\": {\"name\": \"***\", \"pr\": \"***\", \"qn\": \"***\", \"Bg_Amt\": \"***\"}, \"Sample_data1\": {\"name\": \"***\", \"pr\": \"***\", \"qn\": \"***\", \"Bg_Amt\": \"***\"}, \"Sample_data2\": {\"name\": \"*** \", \"pr\": \"***\", \"qn\": \"***\", \"Bg_Amt\": \"***\"}}'"
            ]
          },
          "metadata": {},
          "execution_count": 4
        }
      ]
    },
    {
      "cell_type": "markdown",
      "metadata": {
        "id": "BdLsTlFyf5KS"
      },
      "source": [
        "*Function for Updating the Record *"
      ]
    },
    {
      "cell_type": "code",
      "metadata": {
        "id": "4k-xbuZ1J5FY"
      },
      "source": [
        "def UpdateRecord(record):\n",
        "  js = json.dumps(record)\n",
        "  fd = open(\"record.json\",'w')\n",
        "  fd.write(js)\n",
        "  fd.close()"
      ],
      "execution_count": 5,
      "outputs": []
    },
    {
      "cell_type": "markdown",
      "metadata": {
        "id": "WfIFfzFbgHU6"
      },
      "source": [
        "*Function for Updating the sales Transactions*"
      ]
    },
    {
      "cell_type": "code",
      "metadata": {
        "id": "FQIuFITdJ_zL"
      },
      "source": [
        "def Update_SalesRecord(sales_Record):\n",
        "  sales_js = json.dumps(sales_Record)\n",
        "  fd = open(\"sales_Record.json\",'w')\n",
        "  fd.write(sales_js)\n",
        "  fd.close()"
      ],
      "execution_count": 6,
      "outputs": []
    },
    {
      "cell_type": "markdown",
      "metadata": {
        "id": "Me5s_gExgOGQ"
      },
      "source": [
        "**Main Code of an Inventory Management System**"
      ]
    },
    {
      "cell_type": "code",
      "metadata": {
        "colab": {
          "base_uri": "https://localhost:8080/"
        },
        "id": "Vjs-hPjkKCOx",
        "outputId": "537ed8e6-32af-47a6-95d5-ec69970aef2e"
      },
      "source": [
        "per_Category=input(\"Are you a \\\"Shopkeeper\\\" or a \\\"Customer\\\"? \")\n",
        "\n",
        "if per_Category==\"Shopkeeper\":\n",
        "  getInfo=input(\"Are you going to Add/Delete the Products? \")\n",
        "  if  getInfo!=\"Add\":\n",
        "    #-------------------------------------------------\n",
        "    getID=input(\"Enter the Product ID\")\n",
        "    if getID in record.keys():\n",
        "      del record[getID]\n",
        "      print(\"Deleted Succesfully\")\n",
        "      UpdateRecord(record)\n",
        "    else:\n",
        "      print(\"Not Exist\")\n",
        "    #-------------------------------------------------\n",
        "  else:\n",
        "    #-------------------------------------------------\n",
        "    prod_id = input(\"Enter product id:\")\n",
        "    if prod_id not in record.keys():\n",
        "      name = str(input(\"Enter name:\"))\n",
        "      pr = int(input(\"Enter price:\"))\n",
        "      qn = int(input(\"Enter quantity:\"))\n",
        "\n",
        "      record[prod_id] = {'name': name, 'pr': pr, 'qn': qn}\n",
        "      print(\"Added Succesfully\")\n",
        "      UpdateRecord(record)\n",
        "    #-------------------------------------------------\n",
        "    else:\n",
        "      print(\"Already Exist\")\n",
        "elif per_Category==\"Customer\":\n",
        "  #-------------------------------------------------\n",
        "  ui_prod  = input(\"Enter the product_Id: \")\n",
        "  \n",
        "  if ui_prod in record.keys():\n",
        "    ui_quant = int(input(\"Enter the quantity: \"))\n",
        "    if ui_quant!=0 and ui_quant<=record[ui_prod]['qn']:\n",
        "    \n",
        "      ne=record[ui_prod]['name']\n",
        "      p_ce=record[ui_prod]['pr']\n",
        "      q_ty=record[ui_prod]['qn']\n",
        "      b_Amt=record[ui_prod]['pr'] * ui_quant\n",
        "      print(\"************Invoice****************\")\n",
        "      print(\"    ***************************\")\n",
        "      print(\"Product: \",ne)\n",
        "      print(\"Price: \", p_ce)\n",
        "      print(\"Quantity:\", ui_quant )\n",
        "      print(\"Billing Amount: \", b_Amt)\n",
        "      print(\"    ***************************\")\n",
        "      print(\"    Thank You for shopping! \")\n",
        "      print(\"***********************************\")\n",
        "      #   updating sales record\n",
        "      sales_Record[ui_prod] = {'Bg_Amt': b_Amt, 'name':ne, 'pr': p_ce, 'qn': ui_quant}\n",
        "      Update_SalesRecord(sales_Record)\n",
        "\n",
        "      record[ui_prod]['qn'] = record[ui_prod]['qn'] - ui_quant\n",
        "      if record[ui_prod]['qn']==0:\n",
        "        del record[ui_prod]\n",
        "      UpdateRecord(record)\n",
        "\n",
        "    elif ui_quant>record[ui_prod]['qn']:\n",
        "      print(f\"In Sufficient Quantity \\n Available Quantity {record[ui_prod]['qn']}\")\n",
        "    elif ui_quant<=0:\n",
        "      print(\"Invalid Quantity\")\n",
        "    \n",
        "  else:\n",
        "       print(\"Product not Avaliable\")\n",
        "  #-------------------------------------------------"
      ],
      "execution_count": 15,
      "outputs": [
        {
          "output_type": "stream",
          "name": "stdout",
          "text": [
            "Are you a \"Shopkeeper\" or a \"Customer\"? Shopkeeper\n",
            "Are you going to Add/Delete the Products? Add\n",
            "Enter product id:1023\n",
            "Enter name:serials\n",
            "Enter price:5\n",
            "Enter quantity:500\n",
            "Added Succesfully\n"
          ]
        }
      ]
    },
    {
      "cell_type": "markdown",
      "metadata": {
        "id": "spnDauH3gcV-"
      },
      "source": [
        "**Check the status of Record**"
      ]
    },
    {
      "cell_type": "code",
      "metadata": {
        "colab": {
          "base_uri": "https://localhost:8080/"
        },
        "id": "MyeI6NBVKJqD",
        "outputId": "8a144a62-28c1-47a5-c8d0-00ca432a4cf5"
      },
      "source": [
        "record"
      ],
      "execution_count": 16,
      "outputs": [
        {
          "output_type": "execute_result",
          "data": {
            "text/plain": [
              "{'1001': {'name': 'Choco Cake', 'pr': 100, 'qn': 24},\n",
              " '1002': {'name': 'Milk Cake', 'pr': 800, 'qn': 1},\n",
              " '1003': {'name': 'Drink', 'pr': 85, 'qn': 48},\n",
              " '1004': {'name': 'Candy', 'pr': 5, 'qn': 1000},\n",
              " '1005': {'name': 'Pen', 'pr': 20, 'qn': 88},\n",
              " '1007': {'name': 'Mic', 'pr': 1500, 'qn': 0},\n",
              " '1008': {'name': 'Coke', 'pr': 70, 'qn': 100},\n",
              " '1009': {'name': 'chocolate ', 'pr': 12, 'qn': 20},\n",
              " '1010': {'name': 'Phone', 'pr': 5000, 'qn': 200},\n",
              " '1023': {'name': 'serials', 'pr': 5, 'qn': 500},\n",
              " '1032': {'name': 'cyclist', 'pr': 23, 'qn': 34},\n",
              " '1209': {'name': 'motor', 'pr': 2000, 'qn': 100}}"
            ]
          },
          "metadata": {},
          "execution_count": 16
        }
      ]
    },
    {
      "cell_type": "markdown",
      "metadata": {
        "id": "RPrn-BDngl_9"
      },
      "source": [
        "**Check the status of sales record**"
      ]
    },
    {
      "cell_type": "markdown",
      "metadata": {
        "id": "gGQQiy86KMbX"
      },
      "source": [
        "### **Sales Record**"
      ]
    },
    {
      "cell_type": "code",
      "metadata": {
        "colab": {
          "base_uri": "https://localhost:8080/"
        },
        "id": "nJ_uFpr8KS8t",
        "outputId": "a3455568-64d2-49aa-eefa-093be25e6137"
      },
      "source": [
        "sales_Record"
      ],
      "execution_count": 12,
      "outputs": [
        {
          "output_type": "execute_result",
          "data": {
            "text/plain": [
              "{'1032': {'Bg_Amt': 4600, 'name': 'cyclist', 'pr': 23, 'qn': 200},\n",
              " 'Sample_data': {'Bg_Amt': '***', 'name': '***', 'pr': '***', 'qn': '***'},\n",
              " 'Sample_data1': {'Bg_Amt': '***', 'name': '***', 'pr': '***', 'qn': '***'},\n",
              " 'Sample_data2': {'Bg_Amt': '***', 'name': '*** ', 'pr': '***', 'qn': '***'}}"
            ]
          },
          "metadata": {},
          "execution_count": 12
        }
      ]
    }
  ]
}